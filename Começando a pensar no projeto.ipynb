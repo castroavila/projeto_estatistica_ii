{
 "cells": [
  {
   "cell_type": "markdown",
   "id": "23acbec8",
   "metadata": {
    "id": "23acbec8"
   },
   "source": [
    "# Começando a pensar no projeto"
   ]
  },
  {
   "cell_type": "markdown",
   "id": "8432dcba",
   "metadata": {
    "id": "8432dcba"
   },
   "source": [
    "## BRAIN STORM\n",
    "\n",
    "- Objetivo é lidar com um problema real, e tentar resolver ele usando: Classificação ou Regressão.\n",
    "- Tente fazer uma análise bem abrangente, explicando cada etapa e justificando cada ação escolhida.\n",
    "- Incluir gráficos e tabelas comparativas pode ajudar muito!"
   ]
  },
  {
   "cell_type": "markdown",
   "id": "7d2f46d9",
   "metadata": {
    "id": "7d2f46d9"
   },
   "source": [
    "## BASE DE DADOS\n",
    "\n",
    "**Faça escolha de um dataset da sua preferencia!**\n",
    "\n",
    "Você pode procurar conjuntos de dados aqui:\n",
    "\n",
    "1. No repositório da <a href=\"https://archive.ics.uci.edu/ml/datasets.php\" target=\"_blank\">UCI</a>.\n",
    "1. No <a href=\"https://www.kaggle.com/datasets\" target=\"_blank\">Kaggle</a>."
   ]
  },
  {
   "cell_type": "markdown",
   "id": "a6793b12",
   "metadata": {
    "id": "a6793b12"
   },
   "source": [
    "## INICIANDO O PROJETO"
   ]
  },
  {
   "cell_type": "markdown",
   "id": "633bdebf",
   "metadata": {
    "id": "633bdebf"
   },
   "source": [
    "**Carregando as bibliotecas**"
   ]
  },
  {
   "cell_type": "code",
   "execution_count": 133,
   "id": "1ea5048a",
   "metadata": {
    "ExecuteTime": {
     "end_time": "2022-07-19T23:43:06.122155Z",
     "start_time": "2022-07-19T23:43:01.924164Z"
    },
    "id": "1ea5048a"
   },
   "outputs": [],
   "source": [
    "import pandas as pd\n",
    "import numpy as np\n",
    "\n",
    "import matplotlib.pyplot as plt\n",
    "import seaborn as sns\n",
    "from sklearn.model_selection import train_test_split\n",
    "from sklearn.ensemble import RandomForestRegressor\n",
    "from sklearn.metrics import (\n",
    "    mean_absolute_error,\n",
    "    mean_squared_error,\n",
    "    mean_absolute_percentage_error,\n",
    ")"
   ]
  },
  {
   "cell_type": "code",
   "execution_count": 134,
   "id": "ae8301aa",
   "metadata": {
    "ExecuteTime": {
     "end_time": "2022-07-19T23:59:05.345615Z",
     "start_time": "2022-07-19T23:59:05.330657Z"
    },
    "id": "ae8301aa"
   },
   "outputs": [],
   "source": [
    "# Carregue o seu conjunto de dados ..."
   ]
  },
  {
   "cell_type": "markdown",
   "id": "627de07b-af1e-4c49-be96-badacb4f6acf",
   "metadata": {
    "id": "627de07b-af1e-4c49-be96-badacb4f6acf"
   },
   "source": [
    "**Definindo o problema**\n",
    "\n",
    "Aqui começa uma etapa de reflexão. Pense em um possivel problema que você poderia resolver usando os dados que tem disponíveis, por exemplo:\n",
    "\n",
    "- Se escolhi um conjunto de dados com informações de vinhos e os preços deles, meu problema poderia ser tentar fazer a descobrir o preço de um vinho (que ainda não saiu no mercado) com base nas caracteristicas dele."
   ]
  },
  {
   "cell_type": "code",
   "execution_count": 135,
   "id": "29329ffc-4542-4bea-86e6-115af8531974",
   "metadata": {
    "id": "29329ffc-4542-4bea-86e6-115af8531974",
    "tags": []
   },
   "outputs": [],
   "source": [
    "# detalhe aqui qual o problema que vai tentar resolver e explique por que seria um problema de classificação ou regressão ..."
   ]
  },
  {
   "cell_type": "markdown",
   "id": "528915cd",
   "metadata": {
    "id": "528915cd"
   },
   "source": [
    "## ANÁLISE E EXPLORAÇÃO DOS DADOS\n",
    "\n",
    "**Faça uma análise detalhada do conjunto de dados escolhidos.**\n",
    "\n",
    "- Identifique os tipos de dados de cada coluna e caso seja necessário, faça uma conversão no tipo de dado. Em muitas situações é interessante renomear as colunas.\n",
    "- Verifique se existem valores nulos, e caso existam, elabore uma estrategia para lidar com eles (apagar eles, substituir com outro valor, etc.).\n",
    "- Faça uma análise estatistica dos dados para determinar aqueles que provavelmente não vão contribuir durante a modelagem (anomalías e outrliers).\n",
    "- Pode aplicar escalonamento nos dados, para manter todos eles na mesma escala.\n",
    "- Caso tenha features do tipo categorico e queria usar elas durante a modelagem, transforme elas para um valor numerico (encoding!)."
   ]
  },
  {
   "cell_type": "code",
   "execution_count": 136,
   "id": "005aa1ad-ae88-4da1-a652-8498a65b6054",
   "metadata": {
    "id": "005aa1ad-ae88-4da1-a652-8498a65b6054"
   },
   "outputs": [],
   "source": [
    "# Comece aqui ..."
   ]
  },
  {
   "cell_type": "markdown",
   "id": "18406a55-0333-424b-83e0-707c010c4913",
   "metadata": {
    "id": "18406a55-0333-424b-83e0-707c010c4913",
    "tags": []
   },
   "source": [
    "## MODELAGEM\n",
    "\n",
    "#### 1. Importar a **classe do estimador que se deseja treinar** - escolher a hipótese!\n",
    "\n",
    "- Identifique o problema com o qual está lidando (classificação ou regressão).\n",
    "- Dependendo ao problema, faça escolha de qual estimador deseja usar para sua modelagem (pode escolher mais de uma para fins de teste!)."
   ]
  },
  {
   "cell_type": "code",
   "execution_count": 137,
   "id": "7543082a-742b-4cda-bcf5-a589a696625c",
   "metadata": {
    "id": "7543082a-742b-4cda-bcf5-a589a696625c"
   },
   "outputs": [],
   "source": [
    "# Importe aqui ...\n",
    "# Load data\n",
    "data = pd.read_csv('dados/CO2 Emissions_Canada.csv', sep=',')\n",
    "\n",
    "rename_columns = {\n",
    "    'Make': \"make\",\n",
    "    'Model': \"model\",\n",
    "    'Vehicle Class': \"vehicle_class\",\n",
    "    'Engine Size(L)': \"engine_size\",\n",
    "    'Cylinders': \"cylinders\",\n",
    "    'Transmission': \"transmission\",\n",
    "    'Fuel Type': \"fuel_type\",\n",
    "    'Fuel Consumption City (L/100 km)': \"fuel_cons_city\",\n",
    "    'Fuel Consumption Hwy (L/100 km)': \"fuel_cons_hwy\",\n",
    "    'Fuel Consumption Comb (L/100 km)': \"fuel_cons_comb\",\n",
    "    'Fuel Consumption Comb (mpg)': \"fuel_cons_comb_mpg\",\n",
    "    'CO2 Emissions(g/km)': \"co2\",\n",
    "}\n",
    "\n",
    "data = data.rename(columns=rename_columns)\n",
    "\n"
   ]
  },
  {
   "cell_type": "code",
   "execution_count": 138,
   "id": "c4f83a8c",
   "metadata": {},
   "outputs": [
    {
     "data": {
      "text/plain": [
       "make                   object\n",
       "model                  object\n",
       "vehicle_class          object\n",
       "engine_size           float64\n",
       "cylinders               int64\n",
       "transmission           object\n",
       "fuel_type              object\n",
       "fuel_cons_city        float64\n",
       "fuel_cons_hwy         float64\n",
       "fuel_cons_comb        float64\n",
       "fuel_cons_comb_mpg      int64\n",
       "co2                     int64\n",
       "dtype: object"
      ]
     },
     "execution_count": 138,
     "metadata": {},
     "output_type": "execute_result"
    }
   ],
   "source": [
    "data.dtypes"
   ]
  },
  {
   "cell_type": "code",
   "execution_count": 139,
   "id": "e4f3f43a",
   "metadata": {},
   "outputs": [
    {
     "data": {
      "text/html": [
       "<div>\n",
       "<style scoped>\n",
       "    .dataframe tbody tr th:only-of-type {\n",
       "        vertical-align: middle;\n",
       "    }\n",
       "\n",
       "    .dataframe tbody tr th {\n",
       "        vertical-align: top;\n",
       "    }\n",
       "\n",
       "    .dataframe thead th {\n",
       "        text-align: right;\n",
       "    }\n",
       "</style>\n",
       "<table border=\"1\" class=\"dataframe\">\n",
       "  <thead>\n",
       "    <tr style=\"text-align: right;\">\n",
       "      <th></th>\n",
       "      <th>engine_size</th>\n",
       "      <th>cylinders</th>\n",
       "      <th>fuel_cons_city</th>\n",
       "      <th>fuel_cons_hwy</th>\n",
       "      <th>fuel_cons_comb</th>\n",
       "      <th>fuel_cons_comb_mpg</th>\n",
       "      <th>co2</th>\n",
       "    </tr>\n",
       "  </thead>\n",
       "  <tbody>\n",
       "    <tr>\n",
       "      <th>count</th>\n",
       "      <td>7385.000000</td>\n",
       "      <td>7385.000000</td>\n",
       "      <td>7385.000000</td>\n",
       "      <td>7385.000000</td>\n",
       "      <td>7385.000000</td>\n",
       "      <td>7385.000000</td>\n",
       "      <td>7385.000000</td>\n",
       "    </tr>\n",
       "    <tr>\n",
       "      <th>mean</th>\n",
       "      <td>3.160068</td>\n",
       "      <td>5.615030</td>\n",
       "      <td>12.556534</td>\n",
       "      <td>9.041706</td>\n",
       "      <td>10.975071</td>\n",
       "      <td>27.481652</td>\n",
       "      <td>250.584699</td>\n",
       "    </tr>\n",
       "    <tr>\n",
       "      <th>std</th>\n",
       "      <td>1.354170</td>\n",
       "      <td>1.828307</td>\n",
       "      <td>3.500274</td>\n",
       "      <td>2.224456</td>\n",
       "      <td>2.892506</td>\n",
       "      <td>7.231879</td>\n",
       "      <td>58.512679</td>\n",
       "    </tr>\n",
       "    <tr>\n",
       "      <th>min</th>\n",
       "      <td>0.900000</td>\n",
       "      <td>3.000000</td>\n",
       "      <td>4.200000</td>\n",
       "      <td>4.000000</td>\n",
       "      <td>4.100000</td>\n",
       "      <td>11.000000</td>\n",
       "      <td>96.000000</td>\n",
       "    </tr>\n",
       "    <tr>\n",
       "      <th>25%</th>\n",
       "      <td>2.000000</td>\n",
       "      <td>4.000000</td>\n",
       "      <td>10.100000</td>\n",
       "      <td>7.500000</td>\n",
       "      <td>8.900000</td>\n",
       "      <td>22.000000</td>\n",
       "      <td>208.000000</td>\n",
       "    </tr>\n",
       "    <tr>\n",
       "      <th>50%</th>\n",
       "      <td>3.000000</td>\n",
       "      <td>6.000000</td>\n",
       "      <td>12.100000</td>\n",
       "      <td>8.700000</td>\n",
       "      <td>10.600000</td>\n",
       "      <td>27.000000</td>\n",
       "      <td>246.000000</td>\n",
       "    </tr>\n",
       "    <tr>\n",
       "      <th>75%</th>\n",
       "      <td>3.700000</td>\n",
       "      <td>6.000000</td>\n",
       "      <td>14.600000</td>\n",
       "      <td>10.200000</td>\n",
       "      <td>12.600000</td>\n",
       "      <td>32.000000</td>\n",
       "      <td>288.000000</td>\n",
       "    </tr>\n",
       "    <tr>\n",
       "      <th>max</th>\n",
       "      <td>8.400000</td>\n",
       "      <td>16.000000</td>\n",
       "      <td>30.600000</td>\n",
       "      <td>20.600000</td>\n",
       "      <td>26.100000</td>\n",
       "      <td>69.000000</td>\n",
       "      <td>522.000000</td>\n",
       "    </tr>\n",
       "  </tbody>\n",
       "</table>\n",
       "</div>"
      ],
      "text/plain": [
       "       engine_size    cylinders  fuel_cons_city  fuel_cons_hwy  \\\n",
       "count  7385.000000  7385.000000     7385.000000    7385.000000   \n",
       "mean      3.160068     5.615030       12.556534       9.041706   \n",
       "std       1.354170     1.828307        3.500274       2.224456   \n",
       "min       0.900000     3.000000        4.200000       4.000000   \n",
       "25%       2.000000     4.000000       10.100000       7.500000   \n",
       "50%       3.000000     6.000000       12.100000       8.700000   \n",
       "75%       3.700000     6.000000       14.600000      10.200000   \n",
       "max       8.400000    16.000000       30.600000      20.600000   \n",
       "\n",
       "       fuel_cons_comb  fuel_cons_comb_mpg          co2  \n",
       "count     7385.000000         7385.000000  7385.000000  \n",
       "mean        10.975071           27.481652   250.584699  \n",
       "std          2.892506            7.231879    58.512679  \n",
       "min          4.100000           11.000000    96.000000  \n",
       "25%          8.900000           22.000000   208.000000  \n",
       "50%         10.600000           27.000000   246.000000  \n",
       "75%         12.600000           32.000000   288.000000  \n",
       "max         26.100000           69.000000   522.000000  "
      ]
     },
     "execution_count": 139,
     "metadata": {},
     "output_type": "execute_result"
    }
   ],
   "source": [
    "data.describe()"
   ]
  },
  {
   "cell_type": "code",
   "execution_count": 140,
   "id": "999a08dc",
   "metadata": {},
   "outputs": [
    {
     "data": {
      "text/plain": [
       "42"
      ]
     },
     "execution_count": 140,
     "metadata": {},
     "output_type": "execute_result"
    }
   ],
   "source": [
    "len(set(data.make))"
   ]
  },
  {
   "cell_type": "code",
   "execution_count": 141,
   "id": "87636eb4",
   "metadata": {},
   "outputs": [
    {
     "data": {
      "text/plain": [
       "2053"
      ]
     },
     "execution_count": 141,
     "metadata": {},
     "output_type": "execute_result"
    }
   ],
   "source": [
    "len(set(data.model))"
   ]
  },
  {
   "cell_type": "code",
   "execution_count": 142,
   "id": "03361eb8",
   "metadata": {},
   "outputs": [
    {
     "data": {
      "text/plain": [
       "SUV - SMALL                 1217\n",
       "MID-SIZE                    1133\n",
       "COMPACT                     1022\n",
       "SUV - STANDARD               735\n",
       "FULL-SIZE                    639\n",
       "SUBCOMPACT                   606\n",
       "PICKUP TRUCK - STANDARD      538\n",
       "TWO-SEATER                   460\n",
       "MINICOMPACT                  326\n",
       "STATION WAGON - SMALL        252\n",
       "PICKUP TRUCK - SMALL         159\n",
       "MINIVAN                       80\n",
       "SPECIAL PURPOSE VEHICLE       77\n",
       "VAN - PASSENGER               66\n",
       "STATION WAGON - MID-SIZE      53\n",
       "VAN - CARGO                   22\n",
       "Name: vehicle_class, dtype: int64"
      ]
     },
     "execution_count": 142,
     "metadata": {},
     "output_type": "execute_result"
    }
   ],
   "source": [
    "data.vehicle_class.value_counts()"
   ]
  },
  {
   "cell_type": "code",
   "execution_count": 143,
   "id": "922823f7",
   "metadata": {},
   "outputs": [
    {
     "data": {
      "text/plain": [
       "AS6     1324\n",
       "AS8     1211\n",
       "M6       901\n",
       "A6       789\n",
       "A8       490\n",
       "AM7      445\n",
       "A9       339\n",
       "AS7      319\n",
       "AV       295\n",
       "M5       193\n",
       "AS10     168\n",
       "AM6      132\n",
       "AV7      118\n",
       "AV6      113\n",
       "M7        91\n",
       "A5        84\n",
       "AS9       77\n",
       "A4        65\n",
       "AM8       62\n",
       "A7        53\n",
       "AV8       39\n",
       "A10       31\n",
       "AS5       26\n",
       "AV10      11\n",
       "AM5        4\n",
       "AM9        3\n",
       "AS4        2\n",
       "Name: transmission, dtype: int64"
      ]
     },
     "execution_count": 143,
     "metadata": {},
     "output_type": "execute_result"
    }
   ],
   "source": [
    "data.transmission.value_counts()"
   ]
  },
  {
   "cell_type": "code",
   "execution_count": 144,
   "id": "1344c82e",
   "metadata": {},
   "outputs": [
    {
     "data": {
      "text/plain": [
       "X    3637\n",
       "Z    3202\n",
       "E     370\n",
       "D     175\n",
       "N       1\n",
       "Name: fuel_type, dtype: int64"
      ]
     },
     "execution_count": 144,
     "metadata": {},
     "output_type": "execute_result"
    }
   ],
   "source": [
    "data.fuel_type.value_counts()"
   ]
  },
  {
   "cell_type": "code",
   "execution_count": 145,
   "id": "10e66879",
   "metadata": {},
   "outputs": [],
   "source": [
    "data_numerical = data[['engine_size', 'cylinders', 'fuel_cons_city', 'fuel_cons_hwy', 'fuel_cons_comb', 'co2']]"
   ]
  },
  {
   "cell_type": "code",
   "execution_count": 146,
   "id": "d1c1b99f",
   "metadata": {},
   "outputs": [],
   "source": [
    "corr_data = data_numerical.corr()"
   ]
  },
  {
   "cell_type": "code",
   "execution_count": 147,
   "id": "dada6966",
   "metadata": {},
   "outputs": [
    {
     "data": {
      "text/plain": [
       "<AxesSubplot: >"
      ]
     },
     "execution_count": 147,
     "metadata": {},
     "output_type": "execute_result"
    },
    {
     "data": {
      "image/png": "[encoded data removed]",
      "text/plain": [
       "<Figure size 640x480 with 2 Axes>"
      ]
     },
     "metadata": {},
     "output_type": "display_data"
    }
   ],
   "source": [
    "sns.heatmap(data=corr_data, annot=True)"
   ]
  },
  {
   "cell_type": "code",
   "execution_count": 148,
   "id": "2579289a",
   "metadata": {},
   "outputs": [
    {
     "data": {
      "text/html": [
       "<div>\n",
       "<style scoped>\n",
       "    .dataframe tbody tr th:only-of-type {\n",
       "        vertical-align: middle;\n",
       "    }\n",
       "\n",
       "    .dataframe tbody tr th {\n",
       "        vertical-align: top;\n",
       "    }\n",
       "\n",
       "    .dataframe thead th {\n",
       "        text-align: right;\n",
       "    }\n",
       "</style>\n",
       "<table border=\"1\" class=\"dataframe\">\n",
       "  <thead>\n",
       "    <tr style=\"text-align: right;\">\n",
       "      <th></th>\n",
       "      <th>make</th>\n",
       "      <th>model</th>\n",
       "      <th>vehicle_class</th>\n",
       "      <th>engine_size</th>\n",
       "      <th>cylinders</th>\n",
       "      <th>transmission</th>\n",
       "      <th>fuel_type</th>\n",
       "      <th>fuel_cons_city</th>\n",
       "      <th>fuel_cons_hwy</th>\n",
       "      <th>co2</th>\n",
       "    </tr>\n",
       "  </thead>\n",
       "  <tbody>\n",
       "    <tr>\n",
       "      <th>0</th>\n",
       "      <td>ACURA</td>\n",
       "      <td>ILX</td>\n",
       "      <td>COMPACT</td>\n",
       "      <td>2.0</td>\n",
       "      <td>4</td>\n",
       "      <td>AS5</td>\n",
       "      <td>Z</td>\n",
       "      <td>9.9</td>\n",
       "      <td>6.7</td>\n",
       "      <td>196</td>\n",
       "    </tr>\n",
       "    <tr>\n",
       "      <th>1</th>\n",
       "      <td>ACURA</td>\n",
       "      <td>ILX</td>\n",
       "      <td>COMPACT</td>\n",
       "      <td>2.4</td>\n",
       "      <td>4</td>\n",
       "      <td>M6</td>\n",
       "      <td>Z</td>\n",
       "      <td>11.2</td>\n",
       "      <td>7.7</td>\n",
       "      <td>221</td>\n",
       "    </tr>\n",
       "    <tr>\n",
       "      <th>2</th>\n",
       "      <td>ACURA</td>\n",
       "      <td>ILX HYBRID</td>\n",
       "      <td>COMPACT</td>\n",
       "      <td>1.5</td>\n",
       "      <td>4</td>\n",
       "      <td>AV7</td>\n",
       "      <td>Z</td>\n",
       "      <td>6.0</td>\n",
       "      <td>5.8</td>\n",
       "      <td>136</td>\n",
       "    </tr>\n",
       "    <tr>\n",
       "      <th>3</th>\n",
       "      <td>ACURA</td>\n",
       "      <td>MDX 4WD</td>\n",
       "      <td>SUV - SMALL</td>\n",
       "      <td>3.5</td>\n",
       "      <td>6</td>\n",
       "      <td>AS6</td>\n",
       "      <td>Z</td>\n",
       "      <td>12.7</td>\n",
       "      <td>9.1</td>\n",
       "      <td>255</td>\n",
       "    </tr>\n",
       "    <tr>\n",
       "      <th>4</th>\n",
       "      <td>ACURA</td>\n",
       "      <td>RDX AWD</td>\n",
       "      <td>SUV - SMALL</td>\n",
       "      <td>3.5</td>\n",
       "      <td>6</td>\n",
       "      <td>AS6</td>\n",
       "      <td>Z</td>\n",
       "      <td>12.1</td>\n",
       "      <td>8.7</td>\n",
       "      <td>244</td>\n",
       "    </tr>\n",
       "  </tbody>\n",
       "</table>\n",
       "</div>"
      ],
      "text/plain": [
       "    make       model vehicle_class  engine_size  cylinders transmission  \\\n",
       "0  ACURA         ILX       COMPACT          2.0          4          AS5   \n",
       "1  ACURA         ILX       COMPACT          2.4          4           M6   \n",
       "2  ACURA  ILX HYBRID       COMPACT          1.5          4          AV7   \n",
       "3  ACURA     MDX 4WD   SUV - SMALL          3.5          6          AS6   \n",
       "4  ACURA     RDX AWD   SUV - SMALL          3.5          6          AS6   \n",
       "\n",
       "  fuel_type  fuel_cons_city  fuel_cons_hwy  co2  \n",
       "0         Z             9.9            6.7  196  \n",
       "1         Z            11.2            7.7  221  \n",
       "2         Z             6.0            5.8  136  \n",
       "3         Z            12.7            9.1  255  \n",
       "4         Z            12.1            8.7  244  "
      ]
     },
     "execution_count": 148,
     "metadata": {},
     "output_type": "execute_result"
    }
   ],
   "source": [
    "data.drop(columns=['fuel_cons_comb', 'fuel_cons_comb_mpg'], inplace=True)\n",
    "data.head()"
   ]
  },
  {
   "cell_type": "code",
   "execution_count": 149,
   "id": "7dd97d03",
   "metadata": {},
   "outputs": [
    {
     "data": {
      "text/plain": [
       "<seaborn.axisgrid.FacetGrid at 0x13c479de0>"
      ]
     },
     "execution_count": 149,
     "metadata": {},
     "output_type": "execute_result"
    },
    {
     "data": {
      "image/png": "[encoded data removed]",
      "text/plain": [
       "<Figure size 575.361x500 with 1 Axes>"
      ]
     },
     "metadata": {},
     "output_type": "display_data"
    }
   ],
   "source": [
    "sns.lmplot(x='fuel_cons_city', y='co2', data=data, hue='fuel_type')"
   ]
  },
  {
   "cell_type": "markdown",
   "id": "c7ece8b3-bdd5-47b7-9981-eb07d17060eb",
   "metadata": {
    "id": "c7ece8b3-bdd5-47b7-9981-eb07d17060eb"
   },
   "source": [
    "#### 2. Instanciar a classe do estimador, **escolhendo os hiperparâmetros desejados**\n",
    "- Para a primeira versão do modelo, pode ser uma boa escolha utilizar os parâmetros default;\n",
    "- Veremos mais pra frente como escolher os hiperparâmetros adequadamente;"
   ]
  },
  {
   "cell_type": "code",
   "execution_count": 150,
   "id": "4b0d6c25",
   "metadata": {},
   "outputs": [
    {
     "data": {
      "text/plain": [
       "Index(['make', 'model', 'vehicle_class', 'engine_size', 'cylinders',\n",
       "       'transmission', 'fuel_type', 'fuel_cons_city', 'fuel_cons_hwy', 'co2'],\n",
       "      dtype='object')"
      ]
     },
     "execution_count": 150,
     "metadata": {},
     "output_type": "execute_result"
    }
   ],
   "source": [
    "data.columns"
   ]
  },
  {
   "cell_type": "code",
   "execution_count": 151,
   "id": "ea4f0579-9df8-4d4b-838b-8ee36f58c4c2",
   "metadata": {
    "id": "ea4f0579-9df8-4d4b-838b-8ee36f58c4c2",
    "tags": []
   },
   "outputs": [],
   "source": [
    "# Instancie aqui ..."
   ]
  },
  {
   "cell_type": "code",
   "execution_count": 152,
   "id": "07348bdf",
   "metadata": {},
   "outputs": [
    {
     "ename": "KeyError",
     "evalue": "\"['tipo_transmissao'] not in index\"",
     "output_type": "error",
     "traceback": [
      "\u001b[0;31m---------------------------------------------------------------------------\u001b[0m",
      "\u001b[0;31mKeyError\u001b[0m                                  Traceback (most recent call last)",
      "Cell \u001b[0;32mIn [152], line 2\u001b[0m\n\u001b[1;32m      1\u001b[0m \u001b[38;5;66;03m#data_numerical = data_numerical.drop(columns='fuel_cons_comb')\u001b[39;00m\n\u001b[0;32m----> 2\u001b[0m data_numerical \u001b[38;5;241m=\u001b[39m \u001b[43mdata\u001b[49m\u001b[43m[\u001b[49m\u001b[43m[\u001b[49m\u001b[38;5;124;43m'\u001b[39;49m\u001b[38;5;124;43mco2\u001b[39;49m\u001b[38;5;124;43m'\u001b[39;49m\u001b[43m,\u001b[49m\u001b[43m \u001b[49m\u001b[38;5;124;43m'\u001b[39;49m\u001b[38;5;124;43mengine_size\u001b[39;49m\u001b[38;5;124;43m'\u001b[39;49m\u001b[43m,\u001b[49m\u001b[43m \u001b[49m\u001b[38;5;124;43m'\u001b[39;49m\u001b[38;5;124;43mcylinders\u001b[39;49m\u001b[38;5;124;43m'\u001b[39;49m\u001b[43m,\u001b[49m\u001b[43m \u001b[49m\u001b[38;5;124;43m'\u001b[39;49m\u001b[38;5;124;43mfuel_cons_city\u001b[39;49m\u001b[38;5;124;43m'\u001b[39;49m\u001b[43m,\u001b[49m\u001b[43m \u001b[49m\u001b[38;5;124;43m'\u001b[39;49m\u001b[38;5;124;43mfuel_cons_hwy\u001b[39;49m\u001b[38;5;124;43m'\u001b[39;49m\u001b[43m,\u001b[49m\u001b[43m \u001b[49m\u001b[38;5;124;43m'\u001b[39;49m\u001b[38;5;124;43mtipo_transmissao\u001b[39;49m\u001b[38;5;124;43m'\u001b[39;49m\u001b[43m]\u001b[49m\u001b[43m]\u001b[49m\n\u001b[1;32m      3\u001b[0m \u001b[38;5;66;03m# Split data\u001b[39;00m\n\u001b[1;32m      4\u001b[0m X \u001b[38;5;241m=\u001b[39m data_numerical\u001b[38;5;241m.\u001b[39mdrop(columns\u001b[38;5;241m=\u001b[39m\u001b[38;5;124m'\u001b[39m\u001b[38;5;124mco2\u001b[39m\u001b[38;5;124m'\u001b[39m)\n",
      "File \u001b[0;32m~/python_uptodate_modules/lib/python3.10/site-packages/pandas/core/frame.py:3813\u001b[0m, in \u001b[0;36mDataFrame.__getitem__\u001b[0;34m(self, key)\u001b[0m\n\u001b[1;32m   3811\u001b[0m     \u001b[38;5;28;01mif\u001b[39;00m is_iterator(key):\n\u001b[1;32m   3812\u001b[0m         key \u001b[38;5;241m=\u001b[39m \u001b[38;5;28mlist\u001b[39m(key)\n\u001b[0;32m-> 3813\u001b[0m     indexer \u001b[38;5;241m=\u001b[39m \u001b[38;5;28;43mself\u001b[39;49m\u001b[38;5;241;43m.\u001b[39;49m\u001b[43mcolumns\u001b[49m\u001b[38;5;241;43m.\u001b[39;49m\u001b[43m_get_indexer_strict\u001b[49m\u001b[43m(\u001b[49m\u001b[43mkey\u001b[49m\u001b[43m,\u001b[49m\u001b[43m \u001b[49m\u001b[38;5;124;43m\"\u001b[39;49m\u001b[38;5;124;43mcolumns\u001b[39;49m\u001b[38;5;124;43m\"\u001b[39;49m\u001b[43m)\u001b[49m[\u001b[38;5;241m1\u001b[39m]\n\u001b[1;32m   3815\u001b[0m \u001b[38;5;66;03m# take() does not accept boolean indexers\u001b[39;00m\n\u001b[1;32m   3816\u001b[0m \u001b[38;5;28;01mif\u001b[39;00m \u001b[38;5;28mgetattr\u001b[39m(indexer, \u001b[38;5;124m\"\u001b[39m\u001b[38;5;124mdtype\u001b[39m\u001b[38;5;124m\"\u001b[39m, \u001b[38;5;28;01mNone\u001b[39;00m) \u001b[38;5;241m==\u001b[39m \u001b[38;5;28mbool\u001b[39m:\n",
      "File \u001b[0;32m~/python_uptodate_modules/lib/python3.10/site-packages/pandas/core/indexes/base.py:6070\u001b[0m, in \u001b[0;36mIndex._get_indexer_strict\u001b[0;34m(self, key, axis_name)\u001b[0m\n\u001b[1;32m   6067\u001b[0m \u001b[38;5;28;01melse\u001b[39;00m:\n\u001b[1;32m   6068\u001b[0m     keyarr, indexer, new_indexer \u001b[38;5;241m=\u001b[39m \u001b[38;5;28mself\u001b[39m\u001b[38;5;241m.\u001b[39m_reindex_non_unique(keyarr)\n\u001b[0;32m-> 6070\u001b[0m \u001b[38;5;28;43mself\u001b[39;49m\u001b[38;5;241;43m.\u001b[39;49m\u001b[43m_raise_if_missing\u001b[49m\u001b[43m(\u001b[49m\u001b[43mkeyarr\u001b[49m\u001b[43m,\u001b[49m\u001b[43m \u001b[49m\u001b[43mindexer\u001b[49m\u001b[43m,\u001b[49m\u001b[43m \u001b[49m\u001b[43maxis_name\u001b[49m\u001b[43m)\u001b[49m\n\u001b[1;32m   6072\u001b[0m keyarr \u001b[38;5;241m=\u001b[39m \u001b[38;5;28mself\u001b[39m\u001b[38;5;241m.\u001b[39mtake(indexer)\n\u001b[1;32m   6073\u001b[0m \u001b[38;5;28;01mif\u001b[39;00m \u001b[38;5;28misinstance\u001b[39m(key, Index):\n\u001b[1;32m   6074\u001b[0m     \u001b[38;5;66;03m# GH 42790 - Preserve name from an Index\u001b[39;00m\n",
      "File \u001b[0;32m~/python_uptodate_modules/lib/python3.10/site-packages/pandas/core/indexes/base.py:6133\u001b[0m, in \u001b[0;36mIndex._raise_if_missing\u001b[0;34m(self, key, indexer, axis_name)\u001b[0m\n\u001b[1;32m   6130\u001b[0m     \u001b[38;5;28;01mraise\u001b[39;00m \u001b[38;5;167;01mKeyError\u001b[39;00m(\u001b[38;5;124mf\u001b[39m\u001b[38;5;124m\"\u001b[39m\u001b[38;5;124mNone of [\u001b[39m\u001b[38;5;132;01m{\u001b[39;00mkey\u001b[38;5;132;01m}\u001b[39;00m\u001b[38;5;124m] are in the [\u001b[39m\u001b[38;5;132;01m{\u001b[39;00maxis_name\u001b[38;5;132;01m}\u001b[39;00m\u001b[38;5;124m]\u001b[39m\u001b[38;5;124m\"\u001b[39m)\n\u001b[1;32m   6132\u001b[0m not_found \u001b[38;5;241m=\u001b[39m \u001b[38;5;28mlist\u001b[39m(ensure_index(key)[missing_mask\u001b[38;5;241m.\u001b[39mnonzero()[\u001b[38;5;241m0\u001b[39m]]\u001b[38;5;241m.\u001b[39munique())\n\u001b[0;32m-> 6133\u001b[0m \u001b[38;5;28;01mraise\u001b[39;00m \u001b[38;5;167;01mKeyError\u001b[39;00m(\u001b[38;5;124mf\u001b[39m\u001b[38;5;124m\"\u001b[39m\u001b[38;5;132;01m{\u001b[39;00mnot_found\u001b[38;5;132;01m}\u001b[39;00m\u001b[38;5;124m not in index\u001b[39m\u001b[38;5;124m\"\u001b[39m)\n",
      "\u001b[0;31mKeyError\u001b[0m: \"['tipo_transmissao'] not in index\""
     ]
    }
   ],
   "source": [
    "#data_numerical = data_numerical.drop(columns='fuel_cons_comb')\n",
    "data_numerical = data[['co2', 'engine_size', 'cylinders', 'fuel_cons_city', 'fuel_cons_hwy', 'tipo_transmissao']]\n",
    "# Split data\n",
    "X = data_numerical.drop(columns='co2')\n",
    "y = data_numerical['co2']\n",
    "X_train, X_test, y_train, y_test = train_test_split(\n",
    "    X, y, test_size=0.2, random_state=42\n",
    ")\n"
   ]
  },
  {
   "cell_type": "code",
   "execution_count": null,
   "id": "0c5835a5",
   "metadata": {},
   "outputs": [],
   "source": [
    "X_train"
   ]
  },
  {
   "cell_type": "markdown",
   "id": "ab206c37",
   "metadata": {},
   "source": [
    "### Random Forest"
   ]
  },
  {
   "cell_type": "code",
   "execution_count": null,
   "id": "8569fc12",
   "metadata": {},
   "outputs": [],
   "source": [
    "random_forest = RandomForestRegressor(n_estimators=1000, max_features=0.3)\n",
    "random_forest.fit(X_train, y_train)\n",
    "prediction = random_forest.predict(X_test)\n",
    "\n",
    "mae = mean_absolute_error(y_test, prediction)\n",
    "print(f'MAE: {mae}')\n"
   ]
  },
  {
   "cell_type": "code",
   "execution_count": null,
   "id": "e1b520e9",
   "metadata": {},
   "outputs": [],
   "source": [
    "figure, axis = plt.subplots(nrows=1, ncols=1, figsize=(8, 6))\n",
    "axis.scatter(y_test, prediction)\n",
    "axis.set_xlabel('True')\n",
    "axis.set_ylabel('Predicted')\n",
    "\n",
    "\n",
    "plt.show()\n"
   ]
  },
  {
   "cell_type": "code",
   "execution_count": null,
   "id": "e92edabc",
   "metadata": {},
   "outputs": [],
   "source": [
    "print(random_forest.feature_importances_)\n",
    "print(X_train.columns.to_list())\n"
   ]
  },
  {
   "cell_type": "markdown",
   "id": "fefe0ced",
   "metadata": {},
   "source": [
    "### Feature importance"
   ]
  },
  {
   "cell_type": "code",
   "execution_count": null,
   "id": "60036cd8",
   "metadata": {},
   "outputs": [],
   "source": [
    "fig_bar, ax_bar = plt.subplots(nrows=1, ncols=1, figsize=(8, 6))\n",
    "importance = random_forest.feature_importances_\n",
    "var_names = X_train.columns.to_list()\n",
    "\n",
    "ax_bar.bar(var_names, importance)\n",
    "plt.show()\n"
   ]
  },
  {
   "cell_type": "markdown",
   "id": "3fcc533f-468b-4299-a910-11378d987e7d",
   "metadata": {
    "id": "3fcc533f-468b-4299-a910-11378d987e7d"
   },
   "source": [
    "#### 3. Separe os dados em **dados de treino** e **dados de teste**."
   ]
  },
  {
   "cell_type": "code",
   "execution_count": null,
   "id": "278b17ea-520a-4b15-b184-288c8bd7510f",
   "metadata": {
    "id": "278b17ea-520a-4b15-b184-288c8bd7510f"
   },
   "outputs": [],
   "source": [
    "# Codigo aqui ..."
   ]
  },
  {
   "cell_type": "markdown",
   "id": "56721f3e-a453-4510-9be9-3d4112ae4de1",
   "metadata": {
    "id": "56721f3e-a453-4510-9be9-3d4112ae4de1"
   },
   "source": [
    "#### 4. Treine o modelo, usando **os dados de treino**"
   ]
  },
  {
   "cell_type": "code",
   "execution_count": null,
   "id": "660109f0-f98f-4b50-810e-7727d8037de2",
   "metadata": {
    "id": "660109f0-f98f-4b50-810e-7727d8037de2",
    "tags": []
   },
   "outputs": [],
   "source": [
    "# Código aqui ..."
   ]
  },
  {
   "cell_type": "markdown",
   "id": "c776bd3e-669d-4941-a1e5-d10d5daf6d3c",
   "metadata": {
    "id": "c776bd3e-669d-4941-a1e5-d10d5daf6d3c"
   },
   "source": [
    "#### 5. Use o modelo treinado para **fazer previsões** usando os **dados de teste** (ou **de validação**)"
   ]
  },
  {
   "cell_type": "code",
   "execution_count": null,
   "id": "a0320fc7-b6e4-41ad-8b59-0b91ffb6eca7",
   "metadata": {
    "id": "a0320fc7-b6e4-41ad-8b59-0b91ffb6eca7",
    "tags": []
   },
   "outputs": [],
   "source": [
    "# Código aqui ..."
   ]
  },
  {
   "cell_type": "markdown",
   "id": "19cb5a70-7985-4d36-9ba3-077f97bee976",
   "metadata": {
    "id": "19cb5a70-7985-4d36-9ba3-077f97bee976"
   },
   "source": [
    "#### 6. **Avalie a performance do modelo com base nas previsões acima**\n",
    "\n",
    "Lembre que você pode treinar e avaliar muito modelos, e no final escolher aquele que teve melhor performance respeito à metrica escolhida."
   ]
  },
  {
   "cell_type": "code",
   "execution_count": null,
   "id": "f742e47b-c09f-41f6-8bc9-b3c4ba926812",
   "metadata": {
    "id": "f742e47b-c09f-41f6-8bc9-b3c4ba926812",
    "tags": []
   },
   "outputs": [],
   "source": [
    "# Código aqui ..."
   ]
  }
 ],
 "metadata": {
  "colab": {
   "provenance": []
  },
  "kernelspec": {
   "display_name": "Python 3 (ipykernel)",
   "language": "python",
   "name": "python3"
  },
  "language_info": {
   "codemirror_mode": {
    "name": "ipython",
    "version": 3
   },
   "file_extension": ".py",
   "mimetype": "text/x-python",
   "name": "python",
   "nbconvert_exporter": "python",
   "pygments_lexer": "ipython3",
   "version": "3.10.6"
  },
  "varInspector": {
   "cols": {
    "lenName": 16,
    "lenType": 16,
    "lenVar": 40
   },
   "kernels_config": {
    "python": {
     "delete_cmd_postfix": "",
     "delete_cmd_prefix": "del ",
     "library": "var_list.py",
     "varRefreshCmd": "print(var_dic_list())"
    },
    "r": {
     "delete_cmd_postfix": ") ",
     "delete_cmd_prefix": "rm(",
     "library": "var_list.r",
     "varRefreshCmd": "cat(var_dic_list()) "
    }
   },
   "types_to_exclude": [
    "module",
    "function",
    "builtin_function_or_method",
    "instance",
    "_Feature"
   ],
   "window_display": false
  }
 },
 "nbformat": 4,
 "nbformat_minor": 5
}

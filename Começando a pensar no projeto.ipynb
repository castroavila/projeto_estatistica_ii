{
 "cells": [
  {
   "cell_type": "markdown",
   "id": "23acbec8",
   "metadata": {
    "id": "23acbec8"
   },
   "source": [
    "# Começando a pensar no projeto"
   ]
  },
  {
   "cell_type": "markdown",
   "id": "8432dcba",
   "metadata": {
    "id": "8432dcba"
   },
   "source": [
    "## BRAIN STORM\n",
    "\n",
    "- Objetivo é lidar com um problema real, e tentar resolver ele usando: Classificação ou Regressão.\n",
    "- Tente fazer uma análise bem abrangente, explicando cada etapa e justificando cada ação escolhida.\n",
    "- Incluir gráficos e tabelas comparativas pode ajudar muito!"
   ]
  },
  {
   "cell_type": "markdown",
   "id": "7d2f46d9",
   "metadata": {
    "id": "7d2f46d9"
   },
   "source": [
    "## BASE DE DADOS\n",
    "\n",
    "**Faça escolha de um dataset da sua preferencia!**\n",
    "\n",
    "Você pode procurar conjuntos de dados aqui:\n",
    "\n",
    "1. No repositório da <a href=\"https://archive.ics.uci.edu/ml/datasets.php\" target=\"_blank\">UCI</a>.\n",
    "1. No <a href=\"https://www.kaggle.com/datasets\" target=\"_blank\">Kaggle</a>."
   ]
  },
  {
   "cell_type": "markdown",
   "id": "a6793b12",
   "metadata": {
    "id": "a6793b12"
   },
   "source": [
    "## INICIANDO O PROJETO"
   ]
  },
  {
   "cell_type": "markdown",
   "id": "633bdebf",
   "metadata": {
    "id": "633bdebf"
   },
   "source": [
    "**Carregando as bibliotecas**"
   ]
  },
  {
   "cell_type": "code",
   "execution_count": 24,
   "id": "1ea5048a",
   "metadata": {
    "ExecuteTime": {
     "end_time": "2022-07-19T23:43:06.122155Z",
     "start_time": "2022-07-19T23:43:01.924164Z"
    },
    "id": "1ea5048a"
   },
   "outputs": [],
   "source": [
    "import pandas as pd\n",
    "import numpy as np\n",
    "\n",
    "import matplotlib.pyplot as plt\n",
    "import seaborn as sns\n",
    "from sklearn.model_selection import train_test_split\n",
    "from sklearn.metrics import (\n",
    "    mean_absolute_error,\n",
    "    mean_squared_error,\n",
    "    mean_absolute_percentage_error,\n",
    ")"
   ]
  },
  {
   "attachments": {},
   "cell_type": "markdown",
   "id": "48f812bb",
   "metadata": {},
   "source": [
    "**Carregando o conjunto de dados**"
   ]
  },
  {
   "cell_type": "code",
   "execution_count": 25,
   "id": "ae8301aa",
   "metadata": {
    "ExecuteTime": {
     "end_time": "2022-07-19T23:59:05.345615Z",
     "start_time": "2022-07-19T23:59:05.330657Z"
    },
    "id": "ae8301aa"
   },
   "outputs": [],
   "source": [
    "data = pd.read_csv('dados/CO2 Emissions_Canada.csv', sep=',')\n",
    "\n",
    "rename_columns = {\n",
    "    'Make': \"make\",\n",
    "    'Model': \"model\",\n",
    "    'Vehicle Class': \"vehicle_class\",\n",
    "    'Engine Size(L)': \"engine_size\",\n",
    "    'Cylinders': \"cylinders\",\n",
    "    'Transmission': \"transmission\",\n",
    "    'Fuel Type': \"fuel_type\",\n",
    "    'Fuel Consumption City (L/100 km)': \"fuel_cons_city\",\n",
    "    'Fuel Consumption Hwy (L/100 km)': \"fuel_cons_hwy\",\n",
    "    'Fuel Consumption Comb (L/100 km)': \"fuel_cons_comb\",\n",
    "    'Fuel Consumption Comb (mpg)': \"fuel_cons_comb_mpg\",\n",
    "    'CO2 Emissions(g/km)': \"co2\",\n",
    "}\n",
    "\n",
    "data = data.rename(columns=rename_columns)"
   ]
  },
  {
   "cell_type": "markdown",
   "id": "627de07b-af1e-4c49-be96-badacb4f6acf",
   "metadata": {
    "id": "627de07b-af1e-4c49-be96-badacb4f6acf"
   },
   "source": [
    "**Definindo o problema**\n",
    "\n",
    "Aqui começa uma etapa de reflexão. Pense em um possivel problema que você poderia resolver usando os dados que tem disponíveis, por exemplo:\n",
    "\n",
    "- Se escolhi um conjunto de dados com informações de vinhos e os preços deles, meu problema poderia ser tentar fazer a descobrir o preço de um vinho (que ainda não saiu no mercado) com base nas caracteristicas dele."
   ]
  },
  {
   "cell_type": "code",
   "execution_count": 26,
   "id": "29329ffc-4542-4bea-86e6-115af8531974",
   "metadata": {
    "id": "29329ffc-4542-4bea-86e6-115af8531974",
    "tags": []
   },
   "outputs": [],
   "source": [
    "# detalhe aqui qual o problema que vai tentar resolver e explique por que seria um problema de classificação ou regressão ..."
   ]
  },
  {
   "cell_type": "markdown",
   "id": "528915cd",
   "metadata": {
    "id": "528915cd"
   },
   "source": [
    "## ANÁLISE E EXPLORAÇÃO DOS DADOS\n",
    "\n",
    "**Faça uma análise detalhada do conjunto de dados escolhidos.**\n",
    "\n",
    "- Identifique os tipos de dados de cada coluna e caso seja necessário, faça uma conversão no tipo de dado. Em muitas situações é interessante renomear as colunas.\n",
    "- Verifique se existem valores nulos, e caso existam, elabore uma estrategia para lidar com eles (apagar eles, substituir com outro valor, etc.).\n",
    "- Faça uma análise estatistica dos dados para determinar aqueles que provavelmente não vão contribuir durante a modelagem (anomalías e outrliers).\n",
    "- Pode aplicar escalonamento nos dados, para manter todos eles na mesma escala.\n",
    "- Caso tenha features do tipo categorico e queria usar elas durante a modelagem, transforme elas para um valor numerico (encoding!)."
   ]
  },
  {
   "attachments": {},
   "cell_type": "markdown",
   "id": "7e7193d1",
   "metadata": {},
   "source": [
    "**Identificando os tipos de dados**"
   ]
  },
  {
   "cell_type": "code",
   "execution_count": 27,
   "id": "c4f83a8c",
   "metadata": {},
   "outputs": [
    {
     "data": {
      "text/plain": [
       "make                   object\n",
       "model                  object\n",
       "vehicle_class          object\n",
       "engine_size           float64\n",
       "cylinders               int64\n",
       "transmission           object\n",
       "fuel_type              object\n",
       "fuel_cons_city        float64\n",
       "fuel_cons_hwy         float64\n",
       "fuel_cons_comb        float64\n",
       "fuel_cons_comb_mpg      int64\n",
       "co2                     int64\n",
       "dtype: object"
      ]
     },
     "execution_count": 27,
     "metadata": {},
     "output_type": "execute_result"
    }
   ],
   "source": [
    "data.dtypes"
   ]
  },
  {
   "cell_type": "code",
   "execution_count": 28,
   "id": "e4f3f43a",
   "metadata": {},
   "outputs": [
    {
     "data": {
      "text/html": [
       "<div>\n",
       "<style scoped>\n",
       "    .dataframe tbody tr th:only-of-type {\n",
       "        vertical-align: middle;\n",
       "    }\n",
       "\n",
       "    .dataframe tbody tr th {\n",
       "        vertical-align: top;\n",
       "    }\n",
       "\n",
       "    .dataframe thead th {\n",
       "        text-align: right;\n",
       "    }\n",
       "</style>\n",
       "<table border=\"1\" class=\"dataframe\">\n",
       "  <thead>\n",
       "    <tr style=\"text-align: right;\">\n",
       "      <th></th>\n",
       "      <th>engine_size</th>\n",
       "      <th>cylinders</th>\n",
       "      <th>fuel_cons_city</th>\n",
       "      <th>fuel_cons_hwy</th>\n",
       "      <th>fuel_cons_comb</th>\n",
       "      <th>fuel_cons_comb_mpg</th>\n",
       "      <th>co2</th>\n",
       "    </tr>\n",
       "  </thead>\n",
       "  <tbody>\n",
       "    <tr>\n",
       "      <th>count</th>\n",
       "      <td>7385.000000</td>\n",
       "      <td>7385.000000</td>\n",
       "      <td>7385.000000</td>\n",
       "      <td>7385.000000</td>\n",
       "      <td>7385.000000</td>\n",
       "      <td>7385.000000</td>\n",
       "      <td>7385.000000</td>\n",
       "    </tr>\n",
       "    <tr>\n",
       "      <th>mean</th>\n",
       "      <td>3.160068</td>\n",
       "      <td>5.615030</td>\n",
       "      <td>12.556534</td>\n",
       "      <td>9.041706</td>\n",
       "      <td>10.975071</td>\n",
       "      <td>27.481652</td>\n",
       "      <td>250.584699</td>\n",
       "    </tr>\n",
       "    <tr>\n",
       "      <th>std</th>\n",
       "      <td>1.354170</td>\n",
       "      <td>1.828307</td>\n",
       "      <td>3.500274</td>\n",
       "      <td>2.224456</td>\n",
       "      <td>2.892506</td>\n",
       "      <td>7.231879</td>\n",
       "      <td>58.512679</td>\n",
       "    </tr>\n",
       "    <tr>\n",
       "      <th>min</th>\n",
       "      <td>0.900000</td>\n",
       "      <td>3.000000</td>\n",
       "      <td>4.200000</td>\n",
       "      <td>4.000000</td>\n",
       "      <td>4.100000</td>\n",
       "      <td>11.000000</td>\n",
       "      <td>96.000000</td>\n",
       "    </tr>\n",
       "    <tr>\n",
       "      <th>25%</th>\n",
       "      <td>2.000000</td>\n",
       "      <td>4.000000</td>\n",
       "      <td>10.100000</td>\n",
       "      <td>7.500000</td>\n",
       "      <td>8.900000</td>\n",
       "      <td>22.000000</td>\n",
       "      <td>208.000000</td>\n",
       "    </tr>\n",
       "    <tr>\n",
       "      <th>50%</th>\n",
       "      <td>3.000000</td>\n",
       "      <td>6.000000</td>\n",
       "      <td>12.100000</td>\n",
       "      <td>8.700000</td>\n",
       "      <td>10.600000</td>\n",
       "      <td>27.000000</td>\n",
       "      <td>246.000000</td>\n",
       "    </tr>\n",
       "    <tr>\n",
       "      <th>75%</th>\n",
       "      <td>3.700000</td>\n",
       "      <td>6.000000</td>\n",
       "      <td>14.600000</td>\n",
       "      <td>10.200000</td>\n",
       "      <td>12.600000</td>\n",
       "      <td>32.000000</td>\n",
       "      <td>288.000000</td>\n",
       "    </tr>\n",
       "    <tr>\n",
       "      <th>max</th>\n",
       "      <td>8.400000</td>\n",
       "      <td>16.000000</td>\n",
       "      <td>30.600000</td>\n",
       "      <td>20.600000</td>\n",
       "      <td>26.100000</td>\n",
       "      <td>69.000000</td>\n",
       "      <td>522.000000</td>\n",
       "    </tr>\n",
       "  </tbody>\n",
       "</table>\n",
       "</div>"
      ],
      "text/plain": [
       "       engine_size    cylinders  fuel_cons_city  fuel_cons_hwy   \n",
       "count  7385.000000  7385.000000     7385.000000    7385.000000  \\\n",
       "mean      3.160068     5.615030       12.556534       9.041706   \n",
       "std       1.354170     1.828307        3.500274       2.224456   \n",
       "min       0.900000     3.000000        4.200000       4.000000   \n",
       "25%       2.000000     4.000000       10.100000       7.500000   \n",
       "50%       3.000000     6.000000       12.100000       8.700000   \n",
       "75%       3.700000     6.000000       14.600000      10.200000   \n",
       "max       8.400000    16.000000       30.600000      20.600000   \n",
       "\n",
       "       fuel_cons_comb  fuel_cons_comb_mpg          co2  \n",
       "count     7385.000000         7385.000000  7385.000000  \n",
       "mean        10.975071           27.481652   250.584699  \n",
       "std          2.892506            7.231879    58.512679  \n",
       "min          4.100000           11.000000    96.000000  \n",
       "25%          8.900000           22.000000   208.000000  \n",
       "50%         10.600000           27.000000   246.000000  \n",
       "75%         12.600000           32.000000   288.000000  \n",
       "max         26.100000           69.000000   522.000000  "
      ]
     },
     "execution_count": 28,
     "metadata": {},
     "output_type": "execute_result"
    }
   ],
   "source": [
    "data.describe()"
   ]
  },
  {
   "cell_type": "code",
   "execution_count": 29,
   "id": "8a5eac6b",
   "metadata": {},
   "outputs": [
    {
     "name": "stdout",
     "output_type": "stream",
     "text": [
      "<class 'pandas.core.frame.DataFrame'>\n",
      "RangeIndex: 7385 entries, 0 to 7384\n",
      "Data columns (total 12 columns):\n",
      " #   Column              Non-Null Count  Dtype  \n",
      "---  ------              --------------  -----  \n",
      " 0   make                7385 non-null   object \n",
      " 1   model               7385 non-null   object \n",
      " 2   vehicle_class       7385 non-null   object \n",
      " 3   engine_size         7385 non-null   float64\n",
      " 4   cylinders           7385 non-null   int64  \n",
      " 5   transmission        7385 non-null   object \n",
      " 6   fuel_type           7385 non-null   object \n",
      " 7   fuel_cons_city      7385 non-null   float64\n",
      " 8   fuel_cons_hwy       7385 non-null   float64\n",
      " 9   fuel_cons_comb      7385 non-null   float64\n",
      " 10  fuel_cons_comb_mpg  7385 non-null   int64  \n",
      " 11  co2                 7385 non-null   int64  \n",
      "dtypes: float64(4), int64(3), object(5)\n",
      "memory usage: 692.5+ KB\n"
     ]
    }
   ],
   "source": [
    "# não existem valores nulos \n",
    "data.info()"
   ]
  },
  {
   "attachments": {},
   "cell_type": "markdown",
   "id": "e9c2849c",
   "metadata": {},
   "source": [
    "**Verificando dados não numéricos**"
   ]
  },
  {
   "cell_type": "code",
   "execution_count": 30,
   "id": "999a08dc",
   "metadata": {},
   "outputs": [
    {
     "data": {
      "text/plain": [
       "42"
      ]
     },
     "execution_count": 30,
     "metadata": {},
     "output_type": "execute_result"
    }
   ],
   "source": [
    "len(set(data.make))"
   ]
  },
  {
   "cell_type": "code",
   "execution_count": 31,
   "id": "87636eb4",
   "metadata": {},
   "outputs": [
    {
     "data": {
      "text/plain": [
       "2053"
      ]
     },
     "execution_count": 31,
     "metadata": {},
     "output_type": "execute_result"
    }
   ],
   "source": [
    "len(set(data.model))"
   ]
  },
  {
   "cell_type": "code",
   "execution_count": 32,
   "id": "03361eb8",
   "metadata": {},
   "outputs": [
    {
     "data": {
      "text/plain": [
       "vehicle_class\n",
       "SUV - SMALL                 1217\n",
       "MID-SIZE                    1133\n",
       "COMPACT                     1022\n",
       "SUV - STANDARD               735\n",
       "FULL-SIZE                    639\n",
       "SUBCOMPACT                   606\n",
       "PICKUP TRUCK - STANDARD      538\n",
       "TWO-SEATER                   460\n",
       "MINICOMPACT                  326\n",
       "STATION WAGON - SMALL        252\n",
       "PICKUP TRUCK - SMALL         159\n",
       "MINIVAN                       80\n",
       "SPECIAL PURPOSE VEHICLE       77\n",
       "VAN - PASSENGER               66\n",
       "STATION WAGON - MID-SIZE      53\n",
       "VAN - CARGO                   22\n",
       "Name: count, dtype: int64"
      ]
     },
     "execution_count": 32,
     "metadata": {},
     "output_type": "execute_result"
    }
   ],
   "source": [
    "data.vehicle_class.value_counts()"
   ]
  },
  {
   "cell_type": "code",
   "execution_count": 33,
   "id": "922823f7",
   "metadata": {},
   "outputs": [
    {
     "data": {
      "text/plain": [
       "transmission\n",
       "AS6     1324\n",
       "AS8     1211\n",
       "M6       901\n",
       "A6       789\n",
       "A8       490\n",
       "AM7      445\n",
       "A9       339\n",
       "AS7      319\n",
       "AV       295\n",
       "M5       193\n",
       "AS10     168\n",
       "AM6      132\n",
       "AV7      118\n",
       "AV6      113\n",
       "M7        91\n",
       "A5        84\n",
       "AS9       77\n",
       "A4        65\n",
       "AM8       62\n",
       "A7        53\n",
       "AV8       39\n",
       "A10       31\n",
       "AS5       26\n",
       "AV10      11\n",
       "AM5        4\n",
       "AM9        3\n",
       "AS4        2\n",
       "Name: count, dtype: int64"
      ]
     },
     "execution_count": 33,
     "metadata": {},
     "output_type": "execute_result"
    }
   ],
   "source": [
    "data.transmission.value_counts()"
   ]
  },
  {
   "cell_type": "code",
   "execution_count": 34,
   "id": "1344c82e",
   "metadata": {},
   "outputs": [
    {
     "data": {
      "text/plain": [
       "fuel_type\n",
       "X    3637\n",
       "Z    3202\n",
       "E     370\n",
       "D     175\n",
       "N       1\n",
       "Name: count, dtype: int64"
      ]
     },
     "execution_count": 34,
     "metadata": {},
     "output_type": "execute_result"
    }
   ],
   "source": [
    "data.fuel_type.value_counts()"
   ]
  },
  {
   "attachments": {},
   "cell_type": "markdown",
   "id": "aa851cfe",
   "metadata": {},
   "source": [
    "**Verificando a correlação entre os dados numéricos**\n",
    "\n",
    "Obs.: Exceto *fuel_cons_comb_mpg* que corresponde a feature *fuel_cons_comb* em outra unidade de medida."
   ]
  },
  {
   "cell_type": "code",
   "execution_count": 35,
   "id": "10e66879",
   "metadata": {},
   "outputs": [],
   "source": [
    "data_numerical = data[['engine_size', 'cylinders', 'fuel_cons_city', 'fuel_cons_hwy', 'fuel_cons_comb', 'co2']]"
   ]
  },
  {
   "cell_type": "code",
   "execution_count": 36,
   "id": "d1c1b99f",
   "metadata": {},
   "outputs": [],
   "source": [
    "corr_data = data_numerical.corr()"
   ]
  },
  {
   "cell_type": "code",
   "execution_count": 37,
   "id": "dada6966",
   "metadata": {},
   "outputs": [
    {
     "data": {
      "text/plain": [
       "<AxesSubplot:>"
      ]
     },
     "execution_count": 37,
     "metadata": {},
     "output_type": "execute_result"
    },
    {
     "data": {
      "image/png": "[encoded data removed]",
      "text/plain": [
       "<Figure size 432x288 with 2 Axes>"
      ]
     },
     "metadata": {
      "needs_background": "light"
     },
     "output_type": "display_data"
    }
   ],
   "source": [
    "sns.heatmap(data=corr_data, annot=True)"
   ]
  },
  {
   "attachments": {},
   "cell_type": "markdown",
   "id": "f4ecee4f",
   "metadata": {},
   "source": [
    "**Removendo as features *fuel_cons_comb* e *fuel_cons_comb_mpg***"
   ]
  },
  {
   "cell_type": "code",
   "execution_count": 38,
   "id": "2579289a",
   "metadata": {},
   "outputs": [
    {
     "data": {
      "text/html": [
       "<div>\n",
       "<style scoped>\n",
       "    .dataframe tbody tr th:only-of-type {\n",
       "        vertical-align: middle;\n",
       "    }\n",
       "\n",
       "    .dataframe tbody tr th {\n",
       "        vertical-align: top;\n",
       "    }\n",
       "\n",
       "    .dataframe thead th {\n",
       "        text-align: right;\n",
       "    }\n",
       "</style>\n",
       "<table border=\"1\" class=\"dataframe\">\n",
       "  <thead>\n",
       "    <tr style=\"text-align: right;\">\n",
       "      <th></th>\n",
       "      <th>make</th>\n",
       "      <th>model</th>\n",
       "      <th>vehicle_class</th>\n",
       "      <th>engine_size</th>\n",
       "      <th>cylinders</th>\n",
       "      <th>transmission</th>\n",
       "      <th>fuel_type</th>\n",
       "      <th>fuel_cons_city</th>\n",
       "      <th>fuel_cons_hwy</th>\n",
       "      <th>co2</th>\n",
       "    </tr>\n",
       "  </thead>\n",
       "  <tbody>\n",
       "    <tr>\n",
       "      <th>0</th>\n",
       "      <td>ACURA</td>\n",
       "      <td>ILX</td>\n",
       "      <td>COMPACT</td>\n",
       "      <td>2.0</td>\n",
       "      <td>4</td>\n",
       "      <td>AS5</td>\n",
       "      <td>Z</td>\n",
       "      <td>9.9</td>\n",
       "      <td>6.7</td>\n",
       "      <td>196</td>\n",
       "    </tr>\n",
       "    <tr>\n",
       "      <th>1</th>\n",
       "      <td>ACURA</td>\n",
       "      <td>ILX</td>\n",
       "      <td>COMPACT</td>\n",
       "      <td>2.4</td>\n",
       "      <td>4</td>\n",
       "      <td>M6</td>\n",
       "      <td>Z</td>\n",
       "      <td>11.2</td>\n",
       "      <td>7.7</td>\n",
       "      <td>221</td>\n",
       "    </tr>\n",
       "    <tr>\n",
       "      <th>2</th>\n",
       "      <td>ACURA</td>\n",
       "      <td>ILX HYBRID</td>\n",
       "      <td>COMPACT</td>\n",
       "      <td>1.5</td>\n",
       "      <td>4</td>\n",
       "      <td>AV7</td>\n",
       "      <td>Z</td>\n",
       "      <td>6.0</td>\n",
       "      <td>5.8</td>\n",
       "      <td>136</td>\n",
       "    </tr>\n",
       "    <tr>\n",
       "      <th>3</th>\n",
       "      <td>ACURA</td>\n",
       "      <td>MDX 4WD</td>\n",
       "      <td>SUV - SMALL</td>\n",
       "      <td>3.5</td>\n",
       "      <td>6</td>\n",
       "      <td>AS6</td>\n",
       "      <td>Z</td>\n",
       "      <td>12.7</td>\n",
       "      <td>9.1</td>\n",
       "      <td>255</td>\n",
       "    </tr>\n",
       "    <tr>\n",
       "      <th>4</th>\n",
       "      <td>ACURA</td>\n",
       "      <td>RDX AWD</td>\n",
       "      <td>SUV - SMALL</td>\n",
       "      <td>3.5</td>\n",
       "      <td>6</td>\n",
       "      <td>AS6</td>\n",
       "      <td>Z</td>\n",
       "      <td>12.1</td>\n",
       "      <td>8.7</td>\n",
       "      <td>244</td>\n",
       "    </tr>\n",
       "  </tbody>\n",
       "</table>\n",
       "</div>"
      ],
      "text/plain": [
       "    make       model vehicle_class  engine_size  cylinders transmission   \n",
       "0  ACURA         ILX       COMPACT          2.0          4          AS5  \\\n",
       "1  ACURA         ILX       COMPACT          2.4          4           M6   \n",
       "2  ACURA  ILX HYBRID       COMPACT          1.5          4          AV7   \n",
       "3  ACURA     MDX 4WD   SUV - SMALL          3.5          6          AS6   \n",
       "4  ACURA     RDX AWD   SUV - SMALL          3.5          6          AS6   \n",
       "\n",
       "  fuel_type  fuel_cons_city  fuel_cons_hwy  co2  \n",
       "0         Z             9.9            6.7  196  \n",
       "1         Z            11.2            7.7  221  \n",
       "2         Z             6.0            5.8  136  \n",
       "3         Z            12.7            9.1  255  \n",
       "4         Z            12.1            8.7  244  "
      ]
     },
     "execution_count": 38,
     "metadata": {},
     "output_type": "execute_result"
    }
   ],
   "source": [
    "data.drop(columns=['fuel_cons_comb', 'fuel_cons_comb_mpg'], inplace=True)\n",
    "data.head()"
   ]
  },
  {
   "attachments": {},
   "cell_type": "markdown",
   "id": "f52144ce",
   "metadata": {},
   "source": [
    "**Análise do consumo de combustível na cidade x emissão de CO2 conforme o tipo de combustível**"
   ]
  },
  {
   "cell_type": "code",
   "execution_count": 39,
   "id": "7dd97d03",
   "metadata": {},
   "outputs": [
    {
     "data": {
      "text/plain": [
       "<seaborn.axisgrid.FacetGrid at 0x7fd56cbf7610>"
      ]
     },
     "execution_count": 39,
     "metadata": {},
     "output_type": "execute_result"
    },
    {
     "data": {
      "image/png": "[encoded data removed]",
      "text/plain": [
       "<Figure size 414.125x360 with 1 Axes>"
      ]
     },
     "metadata": {
      "needs_background": "light"
     },
     "output_type": "display_data"
    }
   ],
   "source": [
    "sns.lmplot(x='fuel_cons_city', y='co2', data=data, hue='fuel_type')"
   ]
  },
  {
   "cell_type": "markdown",
   "id": "18406a55-0333-424b-83e0-707c010c4913",
   "metadata": {
    "id": "18406a55-0333-424b-83e0-707c010c4913",
    "tags": []
   },
   "source": [
    "## MODELAGEM\n",
    "\n",
    "#### 1. Importar a **classe do estimador que se deseja treinar** - escolher a hipótese!\n",
    "\n",
    "- Identifique o problema com o qual está lidando (classificação ou regressão).\n",
    "- Dependendo ao problema, faça escolha de qual estimador deseja usar para sua modelagem (pode escolher mais de uma para fins de teste!)."
   ]
  },
  {
   "attachments": {},
   "cell_type": "markdown",
   "id": "a47af91a",
   "metadata": {},
   "source": [
    "**Problema de Regressão** - Random Forest"
   ]
  },
  {
   "cell_type": "code",
   "execution_count": 40,
   "id": "35901c1a",
   "metadata": {},
   "outputs": [],
   "source": [
    "from sklearn.ensemble import RandomForestRegressor"
   ]
  },
  {
   "cell_type": "markdown",
   "id": "c7ece8b3-bdd5-47b7-9981-eb07d17060eb",
   "metadata": {
    "id": "c7ece8b3-bdd5-47b7-9981-eb07d17060eb"
   },
   "source": [
    "#### 2. Instanciar a classe do estimador, **escolhendo os hiperparâmetros desejados**\n",
    "- Para a primeira versão do modelo, pode ser uma boa escolha utilizar os parâmetros default;\n",
    "- Veremos mais pra frente como escolher os hiperparâmetros adequadamente;"
   ]
  },
  {
   "cell_type": "code",
   "execution_count": 41,
   "id": "10eeff81",
   "metadata": {},
   "outputs": [],
   "source": [
    "random_forest = RandomForestRegressor(n_estimators=1000, max_features=0.3)"
   ]
  },
  {
   "cell_type": "markdown",
   "id": "3fcc533f-468b-4299-a910-11378d987e7d",
   "metadata": {
    "id": "3fcc533f-468b-4299-a910-11378d987e7d"
   },
   "source": [
    "#### 3. Separe os dados em **dados de treino** e **dados de teste**."
   ]
  },
  {
   "cell_type": "code",
   "execution_count": 42,
   "id": "278b17ea-520a-4b15-b184-288c8bd7510f",
   "metadata": {
    "id": "278b17ea-520a-4b15-b184-288c8bd7510f"
   },
   "outputs": [
    {
     "data": {
      "text/plain": [
       "Index(['make', 'model', 'vehicle_class', 'engine_size', 'cylinders',\n",
       "       'transmission', 'fuel_type', 'fuel_cons_city', 'fuel_cons_hwy', 'co2'],\n",
       "      dtype='object')"
      ]
     },
     "execution_count": 42,
     "metadata": {},
     "output_type": "execute_result"
    }
   ],
   "source": [
    "data.columns"
   ]
  },
  {
   "cell_type": "code",
   "execution_count": 43,
   "id": "4a3695a4",
   "metadata": {},
   "outputs": [],
   "source": [
    "data_numerical = data_numerical.drop(columns='fuel_cons_comb')\n",
    "# Split data\n",
    "X = data_numerical.drop(columns='co2')\n",
    "y = data_numerical['co2']\n",
    "X_train, X_test, y_train, y_test = train_test_split(\n",
    "    X, y, test_size=0.2, random_state=42\n",
    ")"
   ]
  },
  {
   "cell_type": "code",
   "execution_count": 44,
   "id": "a5264a0a",
   "metadata": {},
   "outputs": [
    {
     "data": {
      "text/html": [
       "<div>\n",
       "<style scoped>\n",
       "    .dataframe tbody tr th:only-of-type {\n",
       "        vertical-align: middle;\n",
       "    }\n",
       "\n",
       "    .dataframe tbody tr th {\n",
       "        vertical-align: top;\n",
       "    }\n",
       "\n",
       "    .dataframe thead th {\n",
       "        text-align: right;\n",
       "    }\n",
       "</style>\n",
       "<table border=\"1\" class=\"dataframe\">\n",
       "  <thead>\n",
       "    <tr style=\"text-align: right;\">\n",
       "      <th></th>\n",
       "      <th>engine_size</th>\n",
       "      <th>cylinders</th>\n",
       "      <th>fuel_cons_city</th>\n",
       "      <th>fuel_cons_hwy</th>\n",
       "    </tr>\n",
       "  </thead>\n",
       "  <tbody>\n",
       "    <tr>\n",
       "      <th>6590</th>\n",
       "      <td>3.0</td>\n",
       "      <td>6</td>\n",
       "      <td>11.4</td>\n",
       "      <td>8.1</td>\n",
       "    </tr>\n",
       "    <tr>\n",
       "      <th>6274</th>\n",
       "      <td>4.0</td>\n",
       "      <td>6</td>\n",
       "      <td>14.7</td>\n",
       "      <td>10.3</td>\n",
       "    </tr>\n",
       "    <tr>\n",
       "      <th>2251</th>\n",
       "      <td>3.0</td>\n",
       "      <td>6</td>\n",
       "      <td>13.8</td>\n",
       "      <td>9.0</td>\n",
       "    </tr>\n",
       "    <tr>\n",
       "      <th>3149</th>\n",
       "      <td>3.4</td>\n",
       "      <td>6</td>\n",
       "      <td>11.3</td>\n",
       "      <td>7.9</td>\n",
       "    </tr>\n",
       "    <tr>\n",
       "      <th>4362</th>\n",
       "      <td>2.0</td>\n",
       "      <td>4</td>\n",
       "      <td>10.1</td>\n",
       "      <td>7.0</td>\n",
       "    </tr>\n",
       "    <tr>\n",
       "      <th>...</th>\n",
       "      <td>...</td>\n",
       "      <td>...</td>\n",
       "      <td>...</td>\n",
       "      <td>...</td>\n",
       "    </tr>\n",
       "    <tr>\n",
       "      <th>5191</th>\n",
       "      <td>2.0</td>\n",
       "      <td>4</td>\n",
       "      <td>10.3</td>\n",
       "      <td>7.4</td>\n",
       "    </tr>\n",
       "    <tr>\n",
       "      <th>5226</th>\n",
       "      <td>3.5</td>\n",
       "      <td>6</td>\n",
       "      <td>10.6</td>\n",
       "      <td>7.3</td>\n",
       "    </tr>\n",
       "    <tr>\n",
       "      <th>5390</th>\n",
       "      <td>3.5</td>\n",
       "      <td>6</td>\n",
       "      <td>11.7</td>\n",
       "      <td>8.8</td>\n",
       "    </tr>\n",
       "    <tr>\n",
       "      <th>860</th>\n",
       "      <td>2.5</td>\n",
       "      <td>4</td>\n",
       "      <td>9.5</td>\n",
       "      <td>7.4</td>\n",
       "    </tr>\n",
       "    <tr>\n",
       "      <th>7270</th>\n",
       "      <td>4.0</td>\n",
       "      <td>8</td>\n",
       "      <td>13.4</td>\n",
       "      <td>10.1</td>\n",
       "    </tr>\n",
       "  </tbody>\n",
       "</table>\n",
       "<p>5908 rows × 4 columns</p>\n",
       "</div>"
      ],
      "text/plain": [
       "      engine_size  cylinders  fuel_cons_city  fuel_cons_hwy\n",
       "6590          3.0          6            11.4            8.1\n",
       "6274          4.0          6            14.7           10.3\n",
       "2251          3.0          6            13.8            9.0\n",
       "3149          3.4          6            11.3            7.9\n",
       "4362          2.0          4            10.1            7.0\n",
       "...           ...        ...             ...            ...\n",
       "5191          2.0          4            10.3            7.4\n",
       "5226          3.5          6            10.6            7.3\n",
       "5390          3.5          6            11.7            8.8\n",
       "860           2.5          4             9.5            7.4\n",
       "7270          4.0          8            13.4           10.1\n",
       "\n",
       "[5908 rows x 4 columns]"
      ]
     },
     "execution_count": 44,
     "metadata": {},
     "output_type": "execute_result"
    }
   ],
   "source": [
    "X_train"
   ]
  },
  {
   "cell_type": "markdown",
   "id": "56721f3e-a453-4510-9be9-3d4112ae4de1",
   "metadata": {
    "id": "56721f3e-a453-4510-9be9-3d4112ae4de1"
   },
   "source": [
    "#### 4. Treine o modelo, usando **os dados de treino**"
   ]
  },
  {
   "cell_type": "code",
   "execution_count": 45,
   "id": "660109f0-f98f-4b50-810e-7727d8037de2",
   "metadata": {
    "id": "660109f0-f98f-4b50-810e-7727d8037de2",
    "tags": []
   },
   "outputs": [
    {
     "data": {
      "text/html": [
       "<style>#sk-container-id-2 {color: black;background-color: white;}#sk-container-id-2 pre{padding: 0;}#sk-container-id-2 div.sk-toggleable {background-color: white;}#sk-container-id-2 label.sk-toggleable__label {cursor: pointer;display: block;width: 100%;margin-bottom: 0;padding: 0.3em;box-sizing: border-box;text-align: center;}#sk-container-id-2 label.sk-toggleable__label-arrow:before {content: \"▸\";float: left;margin-right: 0.25em;color: #696969;}#sk-container-id-2 label.sk-toggleable__label-arrow:hover:before {color: black;}#sk-container-id-2 div.sk-estimator:hover label.sk-toggleable__label-arrow:before {color: black;}#sk-container-id-2 div.sk-toggleable__content {max-height: 0;max-width: 0;overflow: hidden;text-align: left;background-color: #f0f8ff;}#sk-container-id-2 div.sk-toggleable__content pre {margin: 0.2em;color: black;border-radius: 0.25em;background-color: #f0f8ff;}#sk-container-id-2 input.sk-toggleable__control:checked~div.sk-toggleable__content {max-height: 200px;max-width: 100%;overflow: auto;}#sk-container-id-2 input.sk-toggleable__control:checked~label.sk-toggleable__label-arrow:before {content: \"▾\";}#sk-container-id-2 div.sk-estimator input.sk-toggleable__control:checked~label.sk-toggleable__label {background-color: #d4ebff;}#sk-container-id-2 div.sk-label input.sk-toggleable__control:checked~label.sk-toggleable__label {background-color: #d4ebff;}#sk-container-id-2 input.sk-hidden--visually {border: 0;clip: rect(1px 1px 1px 1px);clip: rect(1px, 1px, 1px, 1px);height: 1px;margin: -1px;overflow: hidden;padding: 0;position: absolute;width: 1px;}#sk-container-id-2 div.sk-estimator {font-family: monospace;background-color: #f0f8ff;border: 1px dotted black;border-radius: 0.25em;box-sizing: border-box;margin-bottom: 0.5em;}#sk-container-id-2 div.sk-estimator:hover {background-color: #d4ebff;}#sk-container-id-2 div.sk-parallel-item::after {content: \"\";width: 100%;border-bottom: 1px solid gray;flex-grow: 1;}#sk-container-id-2 div.sk-label:hover label.sk-toggleable__label {background-color: #d4ebff;}#sk-container-id-2 div.sk-serial::before {content: \"\";position: absolute;border-left: 1px solid gray;box-sizing: border-box;top: 0;bottom: 0;left: 50%;z-index: 0;}#sk-container-id-2 div.sk-serial {display: flex;flex-direction: column;align-items: center;background-color: white;padding-right: 0.2em;padding-left: 0.2em;position: relative;}#sk-container-id-2 div.sk-item {position: relative;z-index: 1;}#sk-container-id-2 div.sk-parallel {display: flex;align-items: stretch;justify-content: center;background-color: white;position: relative;}#sk-container-id-2 div.sk-item::before, #sk-container-id-2 div.sk-parallel-item::before {content: \"\";position: absolute;border-left: 1px solid gray;box-sizing: border-box;top: 0;bottom: 0;left: 50%;z-index: -1;}#sk-container-id-2 div.sk-parallel-item {display: flex;flex-direction: column;z-index: 1;position: relative;background-color: white;}#sk-container-id-2 div.sk-parallel-item:first-child::after {align-self: flex-end;width: 50%;}#sk-container-id-2 div.sk-parallel-item:last-child::after {align-self: flex-start;width: 50%;}#sk-container-id-2 div.sk-parallel-item:only-child::after {width: 0;}#sk-container-id-2 div.sk-dashed-wrapped {border: 1px dashed gray;margin: 0 0.4em 0.5em 0.4em;box-sizing: border-box;padding-bottom: 0.4em;background-color: white;}#sk-container-id-2 div.sk-label label {font-family: monospace;font-weight: bold;display: inline-block;line-height: 1.2em;}#sk-container-id-2 div.sk-label-container {text-align: center;}#sk-container-id-2 div.sk-container {/* jupyter's `normalize.less` sets `[hidden] { display: none; }` but bootstrap.min.css set `[hidden] { display: none !important; }` so we also need the `!important` here to be able to override the default hidden behavior on the sphinx rendered scikit-learn.org. See: https://github.com/scikit-learn/scikit-learn/issues/21755 */display: inline-block !important;position: relative;}#sk-container-id-2 div.sk-text-repr-fallback {display: none;}</style><div id=\"sk-container-id-2\" class=\"sk-top-container\"><div class=\"sk-text-repr-fallback\"><pre>RandomForestRegressor(max_features=0.3, n_estimators=1000)</pre><b>In a Jupyter environment, please rerun this cell to show the HTML representation or trust the notebook. <br />On GitHub, the HTML representation is unable to render, please try loading this page with nbviewer.org.</b></div><div class=\"sk-container\" hidden><div class=\"sk-item\"><div class=\"sk-estimator sk-toggleable\"><input class=\"sk-toggleable__control sk-hidden--visually\" id=\"sk-estimator-id-2\" type=\"checkbox\" checked><label for=\"sk-estimator-id-2\" class=\"sk-toggleable__label sk-toggleable__label-arrow\">RandomForestRegressor</label><div class=\"sk-toggleable__content\"><pre>RandomForestRegressor(max_features=0.3, n_estimators=1000)</pre></div></div></div></div></div>"
      ],
      "text/plain": [
       "RandomForestRegressor(max_features=0.3, n_estimators=1000)"
      ]
     },
     "execution_count": 45,
     "metadata": {},
     "output_type": "execute_result"
    }
   ],
   "source": [
    "random_forest.fit(X_train, y_train)"
   ]
  },
  {
   "cell_type": "markdown",
   "id": "c776bd3e-669d-4941-a1e5-d10d5daf6d3c",
   "metadata": {
    "id": "c776bd3e-669d-4941-a1e5-d10d5daf6d3c"
   },
   "source": [
    "#### 5. Use o modelo treinado para **fazer previsões** usando os **dados de teste** (ou **de validação**)"
   ]
  },
  {
   "cell_type": "code",
   "execution_count": 46,
   "id": "a0320fc7-b6e4-41ad-8b59-0b91ffb6eca7",
   "metadata": {
    "id": "a0320fc7-b6e4-41ad-8b59-0b91ffb6eca7",
    "tags": []
   },
   "outputs": [],
   "source": [
    "prediction = random_forest.predict(X_test)"
   ]
  },
  {
   "cell_type": "markdown",
   "id": "19cb5a70-7985-4d36-9ba3-077f97bee976",
   "metadata": {
    "id": "19cb5a70-7985-4d36-9ba3-077f97bee976"
   },
   "source": [
    "#### 6. **Avalie a performance do modelo com base nas previsões acima**\n",
    "\n",
    "Lembre que você pode treinar e avaliar muito modelos, e no final escolher aquele que teve melhor performance respeito à metrica escolhida."
   ]
  },
  {
   "attachments": {},
   "cell_type": "markdown",
   "id": "6419f3dc",
   "metadata": {},
   "source": [
    "**Erro médio absoluto**"
   ]
  },
  {
   "cell_type": "code",
   "execution_count": 47,
   "id": "f742e47b-c09f-41f6-8bc9-b3c4ba926812",
   "metadata": {
    "id": "f742e47b-c09f-41f6-8bc9-b3c4ba926812",
    "tags": []
   },
   "outputs": [
    {
     "name": "stdout",
     "output_type": "stream",
     "text": [
      "MAE: 2.9658401738405207\n"
     ]
    }
   ],
   "source": [
    "mae = mean_absolute_error(y_test, prediction)\n",
    "print(f'MAE: {mae}')"
   ]
  },
  {
   "attachments": {},
   "cell_type": "markdown",
   "id": "005501c0",
   "metadata": {},
   "source": [
    "**Visualização gráfica dos valores reais x valores preditos**"
   ]
  },
  {
   "cell_type": "code",
   "execution_count": 48,
   "id": "d4f88c14",
   "metadata": {},
   "outputs": [
    {
     "data": {
      "image/png": "[encoded data removed]",
      "text/plain": [
       "<Figure size 576x432 with 1 Axes>"
      ]
     },
     "metadata": {
      "needs_background": "light"
     },
     "output_type": "display_data"
    }
   ],
   "source": [
    "figure, axis = plt.subplots(nrows=1, ncols=1, figsize=(8, 6))\n",
    "axis.scatter(y_test, prediction)\n",
    "axis.set_xlabel('True')\n",
    "axis.set_ylabel('Predicted')\n",
    "\n",
    "\n",
    "plt.show()"
   ]
  },
  {
   "attachments": {},
   "cell_type": "markdown",
   "id": "cf7f7b9a",
   "metadata": {},
   "source": [
    "**Feature importance**"
   ]
  },
  {
   "cell_type": "code",
   "execution_count": 49,
   "id": "2e65af43",
   "metadata": {},
   "outputs": [
    {
     "data": {
      "image/png": "[encoded data removed]",
      "text/plain": [
       "<Figure size 576x432 with 1 Axes>"
      ]
     },
     "metadata": {
      "needs_background": "light"
     },
     "output_type": "display_data"
    }
   ],
   "source": [
    "fig_bar, ax_bar = plt.subplots(nrows=1, ncols=1, figsize=(8, 6))\n",
    "importance = random_forest.feature_importances_\n",
    "var_names = X_train.columns.to_list()\n",
    "\n",
    "ax_bar.bar(var_names, importance)\n",
    "plt.show()"
   ]
  }
 ],
 "metadata": {
  "colab": {
   "provenance": []
  },
  "kernelspec": {
   "display_name": "Python 3 (ipykernel)",
   "language": "python",
   "name": "python3"
  },
  "language_info": {
   "codemirror_mode": {
    "name": "ipython",
    "version": 3
   },
   "file_extension": ".py",
   "mimetype": "text/x-python",
   "name": "python",
   "nbconvert_exporter": "python",
   "pygments_lexer": "ipython3",
   "version": "3.10.6"
  },
  "varInspector": {
   "cols": {
    "lenName": 16,
    "lenType": 16,
    "lenVar": 40
   },
   "kernels_config": {
    "python": {
     "delete_cmd_postfix": "",
     "delete_cmd_prefix": "del ",
     "library": "var_list.py",
     "varRefreshCmd": "print(var_dic_list())"
    },
    "r": {
     "delete_cmd_postfix": ") ",
     "delete_cmd_prefix": "rm(",
     "library": "var_list.r",
     "varRefreshCmd": "cat(var_dic_list()) "
    }
   },
   "types_to_exclude": [
    "module",
    "function",
    "builtin_function_or_method",
    "instance",
    "_Feature"
   ],
   "window_display": false
  }
 },
 "nbformat": 4,
 "nbformat_minor": 5
}
